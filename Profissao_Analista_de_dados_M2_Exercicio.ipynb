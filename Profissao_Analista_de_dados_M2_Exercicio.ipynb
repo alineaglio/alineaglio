{
  "nbformat": 4,
  "nbformat_minor": 0,
  "metadata": {
    "colab": {
      "provenance": [],
      "toc_visible": true,
      "include_colab_link": true
    },
    "kernelspec": {
      "name": "python3",
      "display_name": "Python 3"
    }
  },
  "cells": [
    {
      "cell_type": "markdown",
      "metadata": {
        "id": "view-in-github",
        "colab_type": "text"
      },
      "source": [
        "<a href=\"https://colab.research.google.com/github/alineaglio/alineaglio/blob/main/Profissao_Analista_de_dados_M2_Exercicio.ipynb\" target=\"_parent\"><img src=\"https://colab.research.google.com/assets/colab-badge.svg\" alt=\"Open In Colab\"/></a>"
      ]
    },
    {
      "cell_type": "markdown",
      "metadata": {
        "id": "KJqp9AANOCtf"
      },
      "source": [
        "<img src=\"https://raw.githubusercontent.com/andre-marcos-perez/ebac-course-utils/main/media/logo/newebac_logo_black_half.png\" alt=\"ebac-logo\">\n",
        "\n",
        "---\n",
        "\n",
        "# **Módulo** | Python: Estruturas de Dados\n",
        "Caderno de **Exercícios**<br> \n",
        "Professor [André Perez](https://www.linkedin.com/in/andremarcosperez/)\n",
        "\n",
        "---"
      ]
    },
    {
      "cell_type": "markdown",
      "metadata": {
        "id": "d9jDtUbDOE1-"
      },
      "source": [
        "# **Tópicos**\n",
        "\n",
        "<ol type=\"1\">\n",
        "  <li>Listas;</li>\n",
        "  <li>Conjuntos;</li>\n",
        "  <li>Dicionários.</li>\n",
        "</ol>"
      ]
    },
    {
      "cell_type": "markdown",
      "metadata": {
        "id": "SmoHgt-lwkpD"
      },
      "source": [
        "---"
      ]
    },
    {
      "cell_type": "markdown",
      "metadata": {
        "id": "GABI6OW8OfQ2"
      },
      "source": [
        "# **Exercícios**"
      ]
    },
    {
      "cell_type": "markdown",
      "metadata": {
        "id": "muD1vxozykSC"
      },
      "source": [
        "## 1\\. Listas"
      ]
    },
    {
      "cell_type": "markdown",
      "metadata": {
        "id": "ahrFfCuBxJKs"
      },
      "source": [
        "Criei uma lista chamada `filmes` com o nome dos 10 primeiros filmes mais bem avaliados no site no [IMDB](https://www.imdb.com/chart/top/). Imprima o resultado."
      ]
    },
    {
      "cell_type": "code",
      "metadata": {
        "id": "OgL6Hv3bzOHI",
        "colab": {
          "base_uri": "https://localhost:8080/"
        },
        "outputId": "502ea2ef-a973-4d10-8aae-4220128acc10"
      },
      "source": [
        "filmes = [...]\n",
        "filmes = [\"Um Sonho de Liberdade\",\"O Poderoso Chefão\",\"Batman: O Cavaleiro das Trevas\",\"O Poderoso Chefão II\",\" 12 Homens e uma Sentença\",\"A Lista de Schindler \",\"O Senhor dos Anéis: O Retorno do Rei \",\"Pulp Fiction: Tempo de Violência\",\"O Senhor dos Anéis: A Sociedade do Anel\",\"Três Homens em Conflito\"]\n",
        "print (filmes)"
      ],
      "execution_count": null,
      "outputs": [
        {
          "output_type": "stream",
          "name": "stdout",
          "text": [
            "['Um Sonho de Liberdade', 'O Poderoso Chefão', 'Batman: O Cavaleiro das Trevas', 'O Poderoso Chefão II', ' 12 Homens e uma Sentença', 'A Lista de Schindler ', 'O Senhor dos Anéis: O Retorno do Rei ', 'Pulp Fiction: Tempo de Violência', 'O Senhor dos Anéis: A Sociedade do Anel', 'Três Homens em Conflito']\n"
          ]
        }
      ]
    },
    {
      "cell_type": "markdown",
      "metadata": {
        "id": "KI9zQRT2xa7m"
      },
      "source": [
        "Simule a movimentação do *ranking*. Utilize os métodos `insert` e `pop` para trocar a posição do primeiro e do segundo filme da lista. Imprima o resultado.\n",
        "\n"
      ]
    },
    {
      "cell_type": "code",
      "metadata": {
        "id": "zX3mA3_GzrXH",
        "colab": {
          "base_uri": "https://localhost:8080/"
        },
        "outputId": "47813180-b512-4e1e-cc68-5af886644782"
      },
      "source": [
        "troca_pos = filmes.pop(0)\n",
        "print (troca_pos)\n",
        "filmes.insert (1,troca_pos)\n",
        "print (filmes)"
      ],
      "execution_count": null,
      "outputs": [
        {
          "output_type": "stream",
          "name": "stdout",
          "text": [
            "Um Sonho de Liberdade\n",
            "['O Poderoso Chefão', 'Um Sonho de Liberdade', 'Batman: O Cavaleiro das Trevas', 'O Poderoso Chefão II', ' 12 Homens e uma Sentença', 'A Lista de Schindler ', 'O Senhor dos Anéis: O Retorno do Rei ', 'Pulp Fiction: Tempo de Violência', 'O Senhor dos Anéis: A Sociedade do Anel', 'Três Homens em Conflito']\n"
          ]
        }
      ]
    },
    {
      "cell_type": "markdown",
      "metadata": {
        "id": "zMN1Q3jdwoJm"
      },
      "source": [
        "---"
      ]
    },
    {
      "cell_type": "markdown",
      "metadata": {
        "id": "lxa5L6uF0ZJE"
      },
      "source": [
        "## 2\\. Conjuntos"
      ]
    },
    {
      "cell_type": "markdown",
      "metadata": {
        "id": "9JahS2Kj0d5u"
      },
      "source": [
        "Aconteceu um erro no seu *ranking*. Simule a duplicação dos três últimos filmes da lista. Imprima o resultado."
      ]
    },
    {
      "cell_type": "code",
      "metadata": {
        "id": "BnjnLBNC6PGe",
        "colab": {
          "base_uri": "https://localhost:8080/"
        },
        "outputId": "ec2ec1af-42f2-4cfc-c620-3efe2d162999"
      },
      "source": [
        "filmes = [...]\n",
        "filmes = [\"Um Sonho de Liberdade\",\"O Poderoso Chefão\",\"Batman: O Cavaleiro das Trevas\",\"O Poderoso Chefão II\",\" 12 Homens e uma Sentença\",\"A Lista de Schindler \",\"O Senhor dos Anéis: O Retorno do Rei \",\"Pulp Fiction: Tempo de Violência\",\"O Senhor dos Anéis: A Sociedade do Anel\",\"Três Homens em Conflito\"]\n",
        "print (filmes)\n",
        "print (len(filmes))\n",
        "\n",
        "filmes.append(\"Pulp Fiction: Tempo de Violência\")\n",
        "filmes.append(\"O Senhor dos Anéis: A Sociedade do Anel\")\n",
        "filmes.append(\"Três Homens em Conflito\")\n",
        "print (filmes)\n",
        "print (len(filmes))\n"
      ],
      "execution_count": null,
      "outputs": [
        {
          "output_type": "stream",
          "name": "stdout",
          "text": [
            "['Um Sonho de Liberdade', 'O Poderoso Chefão', 'Batman: O Cavaleiro das Trevas', 'O Poderoso Chefão II', ' 12 Homens e uma Sentença', 'A Lista de Schindler ', 'O Senhor dos Anéis: O Retorno do Rei ', 'Pulp Fiction: Tempo de Violência', 'O Senhor dos Anéis: A Sociedade do Anel', 'Três Homens em Conflito']\n",
            "['Um Sonho de Liberdade', 'O Poderoso Chefão', 'Batman: O Cavaleiro das Trevas', 'O Poderoso Chefão II', ' 12 Homens e uma Sentença', 'A Lista de Schindler ', 'O Senhor dos Anéis: O Retorno do Rei ', 'Pulp Fiction: Tempo de Violência', 'Pulp Fiction: Tempo de Violência', 'Pulp Fiction: Tempo de Violência']\n"
          ]
        }
      ]
    },
    {
      "cell_type": "markdown",
      "source": [],
      "metadata": {
        "id": "3kS-AziB0t6T"
      }
    },
    {
      "cell_type": "markdown",
      "metadata": {
        "id": "suxTfCJB6ZiX"
      },
      "source": [
        "Utiliza a conversão `set` e `list` para remover os valores duplicados. Imprima o resultado. "
      ]
    },
    {
      "cell_type": "code",
      "metadata": {
        "id": "ZvUGN-0n6joM",
        "colab": {
          "base_uri": "https://localhost:8080/"
        },
        "outputId": "f78714e1-339c-435d-b9ed-067b1c482f3a"
      },
      "source": [
        "filmes= list (set (filmes))\n",
        "print (filmes)"
      ],
      "execution_count": null,
      "outputs": [
        {
          "output_type": "stream",
          "name": "stdout",
          "text": [
            "['O Poderoso Chefão II', 'Um Sonho de Liberdade', 'O Poderoso Chefão', 'Batman: O Cavaleiro das Trevas', 'A Lista de Schindler ', 'O Senhor dos Anéis: O Retorno do Rei ', 'Pulp Fiction: Tempo de Violência', ' 12 Homens e uma Sentença']\n"
          ]
        }
      ]
    },
    {
      "cell_type": "markdown",
      "metadata": {
        "id": "ShkK35eQ6pAM"
      },
      "source": [
        "---"
      ]
    },
    {
      "cell_type": "markdown",
      "metadata": {
        "id": "EL_FzmxL6rTv"
      },
      "source": [
        "## 3\\. Dicionários"
      ]
    },
    {
      "cell_type": "markdown",
      "metadata": {
        "id": "i8l0gFqRCpfT"
      },
      "source": [
        "Repita os exercícios da parte 1 (listas). Os elementos da lista `filmes` devem ser dicionários no seguinte formato: `{'nome': <nome-do-filme>, 'ano': <ano do filme>, 'sinopse': <sinopse do filme>}`. "
      ]
    },
    {
      "cell_type": "code",
      "metadata": {
        "id": "tu6MSFwGDnHv",
        "colab": {
          "base_uri": "https://localhost:8080/"
        },
        "outputId": "3c83d1e4-17e1-4e87-cc12-18fca36f1ad5"
      },
      "source": [
        "dic_filmes = []\n",
        "selecao = {\"nome\":\"Um Sonho de Liberdade\",\n",
        "           \"ano\":1984,\n",
        "           \"sinopse\":\"Dois homens presos se reúnem ao longo de vários anos, encontrando consolo e eventual redenção através de atos de decência comum.\"}\n",
        "dic_filmes.append(selecao)\n",
        "\n",
        "selecao = {\"nome\":\"O Poderoso Chefão\",\n",
        "           \"ano\":\"1972\",\n",
        "           \"sinopse\":\"O patriarca idoso de uma dinastia do crime organizado transfere o controle de seu império clandestino para seu filho relutante.\"}\n",
        "dic_filmes.append(selecao)\n",
        "\n",
        "selecao = {\"nome\":\"Batman: O Cavaleiro das Trevas\",\n",
        "           \"ano\":2008,\n",
        "           \"sinopse\":\"Quando a ameaça conhecida como O Coringa surge de seu passado, causa estragos e caos nas pessoas de Gotham. O Cavaleiro das Trevas deve aceitar um dos maiores testes para combater a injustiça\"}\n",
        "dic_filmes.append(selecao) \n",
        "\n",
        "selecao = {\"nome\":\"O Poderoso Chefão II\",\n",
        "           \"ano\":1974,\n",
        "           \"sinopse\":\"Em 1950, Michael Corleone, agora à frente da família, tenta expandir o negócio do crime a Las Vegas, Los Angeles e Cuba. Paralelamente, é revelada a história de Vito Corleone, e de como saiu da Sicília e chegou a Nova Iorque.\"}\n",
        "dic_filmes.append(selecao)\n",
        "\n",
        "selecao = {\"nome\":\"12 Homens e uma Sentença\",\n",
        "           \"ano\":1957,\n",
        "           \"sinopse\":\"O julgamento de um assassinato em Nova Iorque é frustrado por um único membro, cujo ceticismo força o júri a considerar cuidadosamente as evidências antes de dar o veredito.\"}\n",
        "dic_filmes.append(selecao)\n",
        "\n",
        "selecao = {\"nome\":\"A Lista de Schindler\",\n",
        "           \"ano\":1993,\n",
        "           \"sinopse\":\"Na Polônia ocupada pelos alemães durante a Segunda Guerra Mundial, o industrial Oskar Schindler começa a ser preocupar com seus trabalhadores judeus depois de testemunhar sua perseguição pelos nazistas.\"}\n",
        "dic_filmes.append(selecao)\n",
        "\n",
        "selecao = {\"nome\":\"O Senhor dos Anéis: O Retorno do Rei\",\n",
        "           \"ano\":2003,\n",
        "           \"sinopse\":\"Gandalf e Aragorn lideram o Mundo dos Homens contra o exército de Sauron para desviar o olhar de Frodo e Sam quando eles se aproximam á Montanha da Perdição com o Um Anel.\"}           \n",
        "dic_filmes.append(selecao)\n",
        "\n",
        "selecao = {\"nome\":\"Pulp Fiction: Tempo de Violência\",\n",
        "           \"ano\":1994,\n",
        "           \"sinopse\":\"As vidas de dois assassinos da máfia, um boxeador, um gângster e sua esposa, e um par de bandidos se entrelaçam em quatro histórias de violência e redenção.\"}\n",
        "dic_filmes.append(selecao)\n",
        "\n",
        "selecao = {\"nome\":\"O Senhor dos Anéis: A Sociedade do Anel\",\n",
        "           \"ano\":2001,\n",
        "           \"sinopse\":\"Um manso hobbit do Condado e oito companheiros partem em uma jornada para destruir o poderoso Um Anel e salvar a Terra-média das Trevas.\"}\n",
        "dic_filmes.append(selecao)\n",
        "\n",
        "selecao = {\"nome\":\"Três Homens em Conflito\",\n",
        "           \"ano\":1966,\n",
        "           \"sinopse\":\"Um impostor se junta com dois homens para encontrar fortuna num remoto cemitério.\"}\n",
        "dic_filmes.append(selecao)\n",
        "\n",
        "print (dic_filmes)\n",
        "\n",
        "print (dic_filmes[0])\n",
        "print (dic_filmes[1])\n",
        "print (dic_filmes[2])\n",
        "print (dic_filmes[3])\n",
        "print (dic_filmes[4])\n",
        "print (dic_filmes[5])\n",
        "print (dic_filmes[6])\n",
        "print (dic_filmes[-3])\n",
        "print (dic_filmes[-2])\n",
        "print (dic_filmes[-1])\n",
        "\n",
        "\n",
        "\n",
        "\n",
        "\n"
      ],
      "execution_count": null,
      "outputs": [
        {
          "output_type": "stream",
          "name": "stdout",
          "text": [
            "[{'nome': 'Um Sonho de Liberdade', 'ano': 1984, 'sinopse': 'Dois homens presos se reúnem ao longo de vários anos, encontrando consolo e eventual redenção através de atos de decência comum.'}, {'nome': 'O Poderoso Chefão', 'ano': '1972', 'sinopse': 'O patriarca idoso de uma dinastia do crime organizado transfere o controle de seu império clandestino para seu filho relutante.'}, {'nome': 'Batman: O Cavaleiro das Trevas', 'ano': 2008, 'sinopse': 'Quando a ameaça conhecida como O Coringa surge de seu passado, causa estragos e caos nas pessoas de Gotham. O Cavaleiro das Trevas deve aceitar um dos maiores testes para combater a injustiça'}, {'nome': 'O Poderoso Chefão II', 'ano': 1974, 'sinopse': 'Em 1950, Michael Corleone, agora à frente da família, tenta expandir o negócio do crime a Las Vegas, Los Angeles e Cuba. Paralelamente, é revelada a história de Vito Corleone, e de como saiu da Sicília e chegou a Nova Iorque.'}, {'nome': '12 Homens e uma Sentença', 'ano': 1957, 'sinopse': 'O julgamento de um assassinato em Nova Iorque é frustrado por um único membro, cujo ceticismo força o júri a considerar cuidadosamente as evidências antes de dar o veredito.'}, {'nome': 'A Lista de Schindler', 'ano': 1993, 'sinopse': 'Na Polônia ocupada pelos alemães durante a Segunda Guerra Mundial, o industrial Oskar Schindler começa a ser preocupar com seus trabalhadores judeus depois de testemunhar sua perseguição pelos nazistas.'}, {'nome': 'O Senhor dos Anéis: O Retorno do Rei', 'ano': 2003, 'sinopse': 'Gandalf e Aragorn lideram o Mundo dos Homens contra o exército de Sauron para desviar o olhar de Frodo e Sam quando eles se aproximam á Montanha da Perdição com o Um Anel.'}, {'nome': 'Pulp Fiction: Tempo de Violência', 'ano': 1994, 'sinopse': 'As vidas de dois assassinos da máfia, um boxeador, um gângster e sua esposa, e um par de bandidos se entrelaçam em quatro histórias de violência e redenção.'}, {'nome': 'O Senhor dos Anéis: A Sociedade do Anel', 'ano': 2001, 'sinopse': 'Um manso hobbit do Condado e oito companheiros partem em uma jornada para destruir o poderoso Um Anel e salvar a Terra-média das Trevas.'}, {'nome': 'Três Homens em Conflito', 'ano': 1966, 'sinopse': 'Um impostor se junta com dois homens para encontrar fortuna num remoto cemitério.'}]\n",
            "{'nome': 'Um Sonho de Liberdade', 'ano': 1984, 'sinopse': 'Dois homens presos se reúnem ao longo de vários anos, encontrando consolo e eventual redenção através de atos de decência comum.'}\n",
            "{'nome': 'O Poderoso Chefão', 'ano': '1972', 'sinopse': 'O patriarca idoso de uma dinastia do crime organizado transfere o controle de seu império clandestino para seu filho relutante.'}\n",
            "{'nome': 'Batman: O Cavaleiro das Trevas', 'ano': 2008, 'sinopse': 'Quando a ameaça conhecida como O Coringa surge de seu passado, causa estragos e caos nas pessoas de Gotham. O Cavaleiro das Trevas deve aceitar um dos maiores testes para combater a injustiça'}\n",
            "{'nome': 'O Poderoso Chefão II', 'ano': 1974, 'sinopse': 'Em 1950, Michael Corleone, agora à frente da família, tenta expandir o negócio do crime a Las Vegas, Los Angeles e Cuba. Paralelamente, é revelada a história de Vito Corleone, e de como saiu da Sicília e chegou a Nova Iorque.'}\n",
            "{'nome': '12 Homens e uma Sentença', 'ano': 1957, 'sinopse': 'O julgamento de um assassinato em Nova Iorque é frustrado por um único membro, cujo ceticismo força o júri a considerar cuidadosamente as evidências antes de dar o veredito.'}\n",
            "{'nome': 'A Lista de Schindler', 'ano': 1993, 'sinopse': 'Na Polônia ocupada pelos alemães durante a Segunda Guerra Mundial, o industrial Oskar Schindler começa a ser preocupar com seus trabalhadores judeus depois de testemunhar sua perseguição pelos nazistas.'}\n",
            "{'nome': 'O Senhor dos Anéis: O Retorno do Rei', 'ano': 2003, 'sinopse': 'Gandalf e Aragorn lideram o Mundo dos Homens contra o exército de Sauron para desviar o olhar de Frodo e Sam quando eles se aproximam á Montanha da Perdição com o Um Anel.'}\n",
            "{'nome': 'Pulp Fiction: Tempo de Violência', 'ano': 1994, 'sinopse': 'As vidas de dois assassinos da máfia, um boxeador, um gângster e sua esposa, e um par de bandidos se entrelaçam em quatro histórias de violência e redenção.'}\n",
            "{'nome': 'O Senhor dos Anéis: A Sociedade do Anel', 'ano': 2001, 'sinopse': 'Um manso hobbit do Condado e oito companheiros partem em uma jornada para destruir o poderoso Um Anel e salvar a Terra-média das Trevas.'}\n",
            "{'nome': 'Três Homens em Conflito', 'ano': 1966, 'sinopse': 'Um impostor se junta com dois homens para encontrar fortuna num remoto cemitério.'}\n"
          ]
        }
      ]
    }
  ]
}