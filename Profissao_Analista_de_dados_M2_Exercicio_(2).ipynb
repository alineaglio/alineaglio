{
  "nbformat": 4,
  "nbformat_minor": 0,
  "metadata": {
    "colab": {
      "provenance": [],
      "toc_visible": true,
      "include_colab_link": true
    },
    "kernelspec": {
      "name": "python3",
      "display_name": "Python 3"
    }
  },
  "cells": [
    {
      "cell_type": "markdown",
      "metadata": {
        "id": "view-in-github",
        "colab_type": "text"
      },
      "source": [
        "<a href=\"https://colab.research.google.com/github/alineaglio/alineaglio/blob/main/Profissao_Analista_de_dados_M2_Exercicio_(2).ipynb\" target=\"_parent\"><img src=\"https://colab.research.google.com/assets/colab-badge.svg\" alt=\"Open In Colab\"/></a>"
      ]
    },
    {
      "cell_type": "markdown",
      "metadata": {
        "id": "KJqp9AANOCtf"
      },
      "source": [
        "<img src=\"https://raw.githubusercontent.com/andre-marcos-perez/ebac-course-utils/main/media/logo/newebac_logo_black_half.png\" alt=\"ebac-logo\">\n",
        "\n",
        "---\n",
        "\n",
        "# **Módulo** | Python: Estruturas de Dados\n",
        "Caderno de **Exercícios**<br> \n",
        "Professor [André Perez](https://www.linkedin.com/in/andremarcosperez/)\n",
        "\n",
        "---"
      ]
    },
    {
      "cell_type": "markdown",
      "metadata": {
        "id": "d9jDtUbDOE1-"
      },
      "source": [
        "# **Tópicos**\n",
        "\n",
        "<ol type=\"1\">\n",
        "  <li>Listas;</li>\n",
        "  <li>Conjuntos;</li>\n",
        "  <li>Dicionários.</li>\n",
        "</ol>"
      ]
    },
    {
      "cell_type": "markdown",
      "metadata": {
        "id": "SmoHgt-lwkpD"
      },
      "source": [
        "---"
      ]
    },
    {
      "cell_type": "markdown",
      "metadata": {
        "id": "GABI6OW8OfQ2"
      },
      "source": [
        "# **Exercícios**"
      ]
    },
    {
      "cell_type": "markdown",
      "metadata": {
        "id": "muD1vxozykSC"
      },
      "source": [
        "## 1\\. Listas"
      ]
    },
    {
      "cell_type": "markdown",
      "metadata": {
        "id": "ahrFfCuBxJKs"
      },
      "source": [
        "Criei uma lista chamada `filmes` com o nome dos 10 primeiros filmes mais bem avaliados no site no [IMDB](https://www.imdb.com/chart/top/). Imprima o resultado."
      ]
    },
    {
      "cell_type": "code",
      "metadata": {
        "id": "OgL6Hv3bzOHI",
        "colab": {
          "base_uri": "https://localhost:8080/"
        },
        "outputId": "4e8e6e21-f166-4245-9c6d-d48a5dc26a76"
      },
      "source": [
        "filmes = [...]\n",
        "filmes = [\"Um Sonho de Liberdade\",\"O Poderoso Chefão\",\"Batman: O Cavaleiro das Trevas\",\"O Poderoso Chefão II\",\" 12 Homens e uma Sentença\",\"A Lista de Schindler \",\"O Senhor dos Anéis: O Retorno do Rei \",\"Pulp Fiction: Tempo de Violência\",\"O Senhor dos Anéis: A Sociedade do Anel\",\"Três Homens em Conflito\"]\n",
        "print (filmes)"
      ],
      "execution_count": null,
      "outputs": [
        {
          "output_type": "stream",
          "name": "stdout",
          "text": [
            "['Um Sonho de Liberdade', 'O Poderoso Chefão', 'Batman: O Cavaleiro das Trevas', 'O Poderoso Chefão II', ' 12 Homens e uma Sentença', 'A Lista de Schindler ', 'O Senhor dos Anéis: O Retorno do Rei ', 'Pulp Fiction: Tempo de Violência', 'O Senhor dos Anéis: A Sociedade do Anel', 'Três Homens em Conflito']\n"
          ]
        }
      ]
    },
    {
      "cell_type": "markdown",
      "metadata": {
        "id": "KI9zQRT2xa7m"
      },
      "source": [
        "Simule a movimentação do *ranking*. Utilize os métodos `insert` e `pop` para trocar a posição do primeiro e do segundo filme da lista. Imprima o resultado.\n",
        "\n"
      ]
    },
    {
      "cell_type": "code",
      "metadata": {
        "id": "zX3mA3_GzrXH",
        "colab": {
          "base_uri": "https://localhost:8080/"
        },
        "outputId": "4299a63a-e871-4199-de3c-e15413489e5a"
      },
      "source": [
        "troca_pos = filmes.pop(0)\n",
        "print (troca_pos)\n",
        "filmes.insert (1,troca_pos)\n",
        "print (filmes)"
      ],
      "execution_count": null,
      "outputs": [
        {
          "output_type": "stream",
          "name": "stdout",
          "text": [
            "Um Sonho de Liberdade\n",
            "['O Poderoso Chefão', 'Um Sonho de Liberdade', 'Batman: O Cavaleiro das Trevas', 'O Poderoso Chefão II', ' 12 Homens e uma Sentença', 'A Lista de Schindler ', 'O Senhor dos Anéis: O Retorno do Rei ', 'Pulp Fiction: Tempo de Violência', 'O Senhor dos Anéis: A Sociedade do Anel', 'Três Homens em Conflito']\n"
          ]
        }
      ]
    },
    {
      "cell_type": "markdown",
      "metadata": {
        "id": "zMN1Q3jdwoJm"
      },
      "source": [
        "---"
      ]
    },
    {
      "cell_type": "markdown",
      "metadata": {
        "id": "lxa5L6uF0ZJE"
      },
      "source": [
        "## 2\\. Conjuntos"
      ]
    },
    {
      "cell_type": "markdown",
      "metadata": {
        "id": "9JahS2Kj0d5u"
      },
      "source": [
        "Aconteceu um erro no seu *ranking*. Simule a duplicação dos três últimos filmes da lista. Imprima o resultado."
      ]
    },
    {
      "cell_type": "code",
      "metadata": {
        "id": "BnjnLBNC6PGe",
        "colab": {
          "base_uri": "https://localhost:8080/"
        },
        "outputId": "80519be1-2a7b-4c21-90a8-08825fb70e0a"
      },
      "source": [
        "filmes = [...]\n",
        "filmes = [\"Um Sonho de Liberdade\",\"O Poderoso Chefão\",\"Batman: O Cavaleiro das Trevas\",\"O Poderoso Chefão II\",\" 12 Homens e uma Sentença\",\"A Lista de Schindler \",\"O Senhor dos Anéis: O Retorno do Rei \",\"Pulp Fiction: Tempo de Violência\",\"O Senhor dos Anéis: A Sociedade do Anel\",\"Três Homens em Conflito\"]\n",
        "print (filmes)\n",
        "print (len(filmes))\n",
        "\n",
        "filmes.append(\"Pulp Fiction: Tempo de Violência\")\n",
        "filmes.append(\"O Senhor dos Anéis: A Sociedade do Anel\")\n",
        "filmes.append(\"Três Homens em Conflito\")\n",
        "print (filmes)\n",
        "print (len(filmes))\n"
      ],
      "execution_count": null,
      "outputs": [
        {
          "output_type": "stream",
          "name": "stdout",
          "text": [
            "['Um Sonho de Liberdade', 'O Poderoso Chefão', 'Batman: O Cavaleiro das Trevas', 'O Poderoso Chefão II', ' 12 Homens e uma Sentença', 'A Lista de Schindler ', 'O Senhor dos Anéis: O Retorno do Rei ', 'Pulp Fiction: Tempo de Violência', 'O Senhor dos Anéis: A Sociedade do Anel', 'Três Homens em Conflito']\n",
            "10\n",
            "['Um Sonho de Liberdade', 'O Poderoso Chefão', 'Batman: O Cavaleiro das Trevas', 'O Poderoso Chefão II', ' 12 Homens e uma Sentença', 'A Lista de Schindler ', 'O Senhor dos Anéis: O Retorno do Rei ', 'Pulp Fiction: Tempo de Violência', 'O Senhor dos Anéis: A Sociedade do Anel', 'Três Homens em Conflito', 'Pulp Fiction: Tempo de Violência', 'O Senhor dos Anéis: A Sociedade do Anel', 'Três Homens em Conflito']\n",
            "13\n"
          ]
        }
      ]
    },
    {
      "cell_type": "markdown",
      "source": [],
      "metadata": {
        "id": "3kS-AziB0t6T"
      }
    },
    {
      "cell_type": "markdown",
      "metadata": {
        "id": "suxTfCJB6ZiX"
      },
      "source": [
        "Utiliza a conversão `set` e `list` para remover os valores duplicados. Imprima o resultado. "
      ]
    },
    {
      "cell_type": "code",
      "metadata": {
        "id": "ZvUGN-0n6joM",
        "colab": {
          "base_uri": "https://localhost:8080/"
        },
        "outputId": "5e90def3-95d7-43b2-8b0c-91bf0eace8d6"
      },
      "source": [
        "filmes= list (set (filmes))\n",
        "print (filmes)"
      ],
      "execution_count": null,
      "outputs": [
        {
          "output_type": "stream",
          "name": "stdout",
          "text": [
            "['O Poderoso Chefão', 'A Lista de Schindler ', 'O Poderoso Chefão II', 'Um Sonho de Liberdade', ' 12 Homens e uma Sentença', 'Pulp Fiction: Tempo de Violência', 'O Senhor dos Anéis: O Retorno do Rei ', 'Batman: O Cavaleiro das Trevas']\n"
          ]
        }
      ]
    },
    {
      "cell_type": "markdown",
      "metadata": {
        "id": "ShkK35eQ6pAM"
      },
      "source": [
        "---"
      ]
    },
    {
      "cell_type": "markdown",
      "metadata": {
        "id": "EL_FzmxL6rTv"
      },
      "source": [
        "## 3\\. Dicionários"
      ]
    },
    {
      "cell_type": "markdown",
      "metadata": {
        "id": "i8l0gFqRCpfT"
      },
      "source": [
        "Repita os exercícios da parte 1 (listas). Os elementos da lista `filmes` devem ser dicionários no seguinte formato: `{'nome': <nome-do-filme>, 'ano': <ano do filme>, 'sinopse': <sinopse do filme>}`. "
      ]
    },
    {
      "cell_type": "code",
      "metadata": {
        "id": "tu6MSFwGDnHv",
        "colab": {
          "base_uri": "https://localhost:8080/"
        },
        "outputId": "7b830a49-e331-4c2c-cdbb-253f4bfa73b0"
      },
      "source": [
        "filmes = [...]\n",
        "filmes = [\"Um Sonho de Liberdade\",\"O Poderoso Chefão\",\"Batman: O Cavaleiro das Trevas\",\"O Poderoso Chefão II\",\" 12 Homens e uma Sentença\",\"A Lista de Schindler \",\"O Senhor dos Anéis: O Retorno do Rei \",\"Pulp Fiction: Tempo de Violência\",\"O Senhor dos Anéis: A Sociedade do Anel\",\"Três Homens em Conflito\"]\n",
        "print (filmes)\n",
        "\n",
        "filmes_info = []\n",
        "\n",
        "info = {filmes[0]:{\"nome\":filmes[0],\n",
        "                    \"ano\":1994,\n",
        "                    \"sinopse\":\"Dois homens presos se reúnem...\"    \n",
        "                  }\n",
        "        }\n",
        "filmes_info.append(info)\n",
        "\n",
        "info = {filmes[1]:{\"nome\":filmes[1],\n",
        "                    \"ano\":1972,\n",
        "                    \"sinopse\":\"O patriarca idoso de uma dinastia...\"\n",
        "                  }\n",
        "        }\n",
        "filmes_info.append(info)                  \n",
        "info = {filmes[2]:{\"nome\":filmes[2],\n",
        "                    \"ano\":2008,\n",
        "                    \"sinopse\":\"Quando a ameaça conhecida como O Coringa...\"\n",
        "                  }\n",
        "        }\n",
        "filmes_info.append(info)                  \n",
        "info = {filmes[3]:{\"nome\":filmes[3],\n",
        "                    \"ano\":1972,\n",
        "                    \"sinopse\":\"Em 1950, Michael Corleone, agora à frente da família,...\"\n",
        "                  }\n",
        "        }\n",
        "filmes_info.append(info)                 \n",
        "info = {filmes[4]:{\"nome\":filmes[4],\n",
        "                    \"ano\":1957,\n",
        "                    \"sinopse\":\"O julgamento de um assassinato...\"\n",
        "                  }\n",
        "        }\n",
        "filmes_info.append(info)                  \n",
        "info = {filmes[5]:{\"nome\":filmes[5],\n",
        "                    \"ano\":1993,\n",
        "                    \"sinopse\":\"Na Polônia ocupada pelos alemães...\"\n",
        "                  }\n",
        "        }\n",
        "filmes_info.append(info)          \n",
        "info = {filmes[6]:{\"nome\":filmes[6],\n",
        "                    \"ano\":2003,\n",
        "                    \"sinopse\":\"Gandalf e Aragorn lideram o Mundo...\"\n",
        "                  }\n",
        "        }\n",
        "filmes_info.append(info)                \n",
        "info = {filmes[7]:{\"nome\":filmes[7],\n",
        "                    \"ano\":1994,\n",
        "                    \"sinopse\":\"As vidas de dois assassinos da máfia,...\"\n",
        "                  }\n",
        "        }\n",
        "filmes_info.append(info)             \n",
        "info = {filmes[8]:{\"nome\":filmes[8],\n",
        "                    \"ano\":2001,\n",
        "                    \"sinopse\":\"Um manso hobbit do Condado e oito...\"\n",
        "                  }\n",
        "        }\n",
        "filmes_info.append(info)                  \n",
        "info = {filmes[9]:{\"nome\":filmes[9],\n",
        "                    \"ano\":1966,\n",
        "                    \"sinopse\":\"Um impostor se junta com dois homens\"\n",
        "                  }\n",
        "        }\n",
        "filmes_info.append(info)                   \n",
        "                          \n",
        "print (filmes_info)\n",
        "\n",
        "\n",
        "print (f\"1º lugar:{filmes_info[0]}\")\n",
        "print (f\"2º lugar:{filmes_info[1]}\")\n",
        "print (f\"3º lugar:{filmes_info[2]}\")\n",
        "print (f\"4º lugar:{filmes_info[3]}\")\n",
        "print (f\"5º lugar:{filmes_info[4]}\")\n",
        "print (f\"6º lugar:{filmes_info[5]}\")\n",
        "print (f\"7º lugar:{filmes_info[6]}\")\n",
        "print (f\"8º lugar:{filmes_info[7]}\")\n",
        "print (f\"9º lugar:{filmes_info[8]}\")\n",
        "print (f\"10º lugar:{filmes_info[9]}\")\n",
        "\n",
        "\n",
        "\n",
        "\n",
        "\n",
        "\n"
      ],
      "execution_count": null,
      "outputs": [
        {
          "output_type": "stream",
          "name": "stdout",
          "text": [
            "['Um Sonho de Liberdade', 'O Poderoso Chefão', 'Batman: O Cavaleiro das Trevas', 'O Poderoso Chefão II', ' 12 Homens e uma Sentença', 'A Lista de Schindler ', 'O Senhor dos Anéis: O Retorno do Rei ', 'Pulp Fiction: Tempo de Violência', 'O Senhor dos Anéis: A Sociedade do Anel', 'Três Homens em Conflito']\n",
            "[{'Um Sonho de Liberdade': {'nome': 'Um Sonho de Liberdade', 'ano': 1994, 'sinopse': 'Dois homens presos se reúnem...'}}, {'O Poderoso Chefão': {'nome': 'O Poderoso Chefão', 'ano': 1972, 'sinopse': 'O patriarca idoso de uma dinastia...'}}, {'Batman: O Cavaleiro das Trevas': {'nome': 'Batman: O Cavaleiro das Trevas', 'ano': 2008, 'sinopse': 'Quando a ameaça conhecida como O Coringa...'}}, {'O Poderoso Chefão II': {'nome': 'O Poderoso Chefão II', 'ano': 1972, 'sinopse': 'Em 1950, Michael Corleone, agora à frente da família,...'}}, {' 12 Homens e uma Sentença': {'nome': ' 12 Homens e uma Sentença', 'ano': 1957, 'sinopse': 'O julgamento de um assassinato...'}}, {'A Lista de Schindler ': {'nome': 'A Lista de Schindler ', 'ano': 1993, 'sinopse': 'Na Polônia ocupada pelos alemães...'}}, {'O Senhor dos Anéis: O Retorno do Rei ': {'nome': 'O Senhor dos Anéis: O Retorno do Rei ', 'ano': 2003, 'sinopse': 'Gandalf e Aragorn lideram o Mundo...'}}, {'Pulp Fiction: Tempo de Violência': {'nome': 'Pulp Fiction: Tempo de Violência', 'ano': 1994, 'sinopse': 'As vidas de dois assassinos da máfia,...'}}, {'O Senhor dos Anéis: A Sociedade do Anel': {'nome': 'O Senhor dos Anéis: A Sociedade do Anel', 'ano': 2001, 'sinopse': 'Um manso hobbit do Condado e oito...'}}, {'Três Homens em Conflito': {'nome': 'Três Homens em Conflito', 'ano': 1966, 'sinopse': 'Um impostor se junta com dois homens'}}]\n",
            "1º lugar:{'Um Sonho de Liberdade': {'nome': 'Um Sonho de Liberdade', 'ano': 1994, 'sinopse': 'Dois homens presos se reúnem...'}}\n",
            "2º lugar:{'O Poderoso Chefão': {'nome': 'O Poderoso Chefão', 'ano': 1972, 'sinopse': 'O patriarca idoso de uma dinastia...'}}\n",
            "3º lugar:{'Batman: O Cavaleiro das Trevas': {'nome': 'Batman: O Cavaleiro das Trevas', 'ano': 2008, 'sinopse': 'Quando a ameaça conhecida como O Coringa...'}}\n",
            "4º lugar:{'O Poderoso Chefão II': {'nome': 'O Poderoso Chefão II', 'ano': 1972, 'sinopse': 'Em 1950, Michael Corleone, agora à frente da família,...'}}\n",
            "5º lugar:{' 12 Homens e uma Sentença': {'nome': ' 12 Homens e uma Sentença', 'ano': 1957, 'sinopse': 'O julgamento de um assassinato...'}}\n",
            "6º lugar:{'A Lista de Schindler ': {'nome': 'A Lista de Schindler ', 'ano': 1993, 'sinopse': 'Na Polônia ocupada pelos alemães...'}}\n",
            "7º lugar:{'O Senhor dos Anéis: O Retorno do Rei ': {'nome': 'O Senhor dos Anéis: O Retorno do Rei ', 'ano': 2003, 'sinopse': 'Gandalf e Aragorn lideram o Mundo...'}}\n",
            "8º lugar:{'Pulp Fiction: Tempo de Violência': {'nome': 'Pulp Fiction: Tempo de Violência', 'ano': 1994, 'sinopse': 'As vidas de dois assassinos da máfia,...'}}\n",
            "9º lugar:{'O Senhor dos Anéis: A Sociedade do Anel': {'nome': 'O Senhor dos Anéis: A Sociedade do Anel', 'ano': 2001, 'sinopse': 'Um manso hobbit do Condado e oito...'}}\n",
            "10º lugar:{'Três Homens em Conflito': {'nome': 'Três Homens em Conflito', 'ano': 1966, 'sinopse': 'Um impostor se junta com dois homens'}}\n"
          ]
        }
      ]
    }
  ]
}